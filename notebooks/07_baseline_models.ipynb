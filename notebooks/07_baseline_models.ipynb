{
 "cells": [
  {
   "cell_type": "code",
   "execution_count": 1,
   "id": "5e7fd51d-f4fc-4583-94ae-2bfd9388224c",
   "metadata": {},
   "outputs": [],
   "source": [
    "%load_ext autoreload\n",
    "%autoreload 2"
   ]
  },
  {
   "cell_type": "code",
   "execution_count": 2,
   "id": "ca4e773b-3fdb-4db2-a8b3-fcf09bd54f2f",
   "metadata": {},
   "outputs": [],
   "source": [
    "import sys\n",
    "import os\n",
    "\n",
    "# Add the parent directory to the Python path\n",
    "sys.path.append(os.path.abspath(os.path.join(os.getcwd(), \"..\")))"
   ]
  },
  {
   "cell_type": "code",
   "execution_count": 3,
   "id": "9b160f27-7330-42ef-abdf-a65053027038",
   "metadata": {},
   "outputs": [
    {
     "data": {
      "text/html": [
       "<div>\n",
       "<style scoped>\n",
       "    .dataframe tbody tr th:only-of-type {\n",
       "        vertical-align: middle;\n",
       "    }\n",
       "\n",
       "    .dataframe tbody tr th {\n",
       "        vertical-align: top;\n",
       "    }\n",
       "\n",
       "    .dataframe thead th {\n",
       "        text-align: right;\n",
       "    }\n",
       "</style>\n",
       "<table border=\"1\" class=\"dataframe\">\n",
       "  <thead>\n",
       "    <tr style=\"text-align: right;\">\n",
       "      <th></th>\n",
       "      <th>rides_t-672</th>\n",
       "      <th>rides_t-671</th>\n",
       "      <th>rides_t-670</th>\n",
       "      <th>rides_t-669</th>\n",
       "      <th>rides_t-668</th>\n",
       "      <th>rides_t-667</th>\n",
       "      <th>rides_t-666</th>\n",
       "      <th>rides_t-665</th>\n",
       "      <th>rides_t-664</th>\n",
       "      <th>rides_t-663</th>\n",
       "      <th>...</th>\n",
       "      <th>rides_t-7</th>\n",
       "      <th>rides_t-6</th>\n",
       "      <th>rides_t-5</th>\n",
       "      <th>rides_t-4</th>\n",
       "      <th>rides_t-3</th>\n",
       "      <th>rides_t-2</th>\n",
       "      <th>rides_t-1</th>\n",
       "      <th>pickup_hour</th>\n",
       "      <th>pickup_location_id</th>\n",
       "      <th>target</th>\n",
       "    </tr>\n",
       "  </thead>\n",
       "  <tbody>\n",
       "    <tr>\n",
       "      <th>0</th>\n",
       "      <td>0</td>\n",
       "      <td>0</td>\n",
       "      <td>0</td>\n",
       "      <td>0</td>\n",
       "      <td>0</td>\n",
       "      <td>0</td>\n",
       "      <td>0</td>\n",
       "      <td>0</td>\n",
       "      <td>0</td>\n",
       "      <td>0</td>\n",
       "      <td>...</td>\n",
       "      <td>1</td>\n",
       "      <td>0</td>\n",
       "      <td>0</td>\n",
       "      <td>0</td>\n",
       "      <td>0</td>\n",
       "      <td>0</td>\n",
       "      <td>0</td>\n",
       "      <td>2023-01-29</td>\n",
       "      <td>2</td>\n",
       "      <td>0</td>\n",
       "    </tr>\n",
       "    <tr>\n",
       "      <th>1</th>\n",
       "      <td>0</td>\n",
       "      <td>0</td>\n",
       "      <td>0</td>\n",
       "      <td>0</td>\n",
       "      <td>0</td>\n",
       "      <td>0</td>\n",
       "      <td>0</td>\n",
       "      <td>0</td>\n",
       "      <td>0</td>\n",
       "      <td>0</td>\n",
       "      <td>...</td>\n",
       "      <td>0</td>\n",
       "      <td>0</td>\n",
       "      <td>0</td>\n",
       "      <td>0</td>\n",
       "      <td>0</td>\n",
       "      <td>0</td>\n",
       "      <td>0</td>\n",
       "      <td>2023-01-30</td>\n",
       "      <td>2</td>\n",
       "      <td>0</td>\n",
       "    </tr>\n",
       "    <tr>\n",
       "      <th>2</th>\n",
       "      <td>0</td>\n",
       "      <td>0</td>\n",
       "      <td>0</td>\n",
       "      <td>0</td>\n",
       "      <td>0</td>\n",
       "      <td>0</td>\n",
       "      <td>0</td>\n",
       "      <td>0</td>\n",
       "      <td>0</td>\n",
       "      <td>0</td>\n",
       "      <td>...</td>\n",
       "      <td>0</td>\n",
       "      <td>0</td>\n",
       "      <td>0</td>\n",
       "      <td>0</td>\n",
       "      <td>0</td>\n",
       "      <td>0</td>\n",
       "      <td>0</td>\n",
       "      <td>2023-01-31</td>\n",
       "      <td>2</td>\n",
       "      <td>0</td>\n",
       "    </tr>\n",
       "    <tr>\n",
       "      <th>3</th>\n",
       "      <td>0</td>\n",
       "      <td>0</td>\n",
       "      <td>0</td>\n",
       "      <td>0</td>\n",
       "      <td>0</td>\n",
       "      <td>0</td>\n",
       "      <td>0</td>\n",
       "      <td>0</td>\n",
       "      <td>0</td>\n",
       "      <td>0</td>\n",
       "      <td>...</td>\n",
       "      <td>0</td>\n",
       "      <td>0</td>\n",
       "      <td>0</td>\n",
       "      <td>0</td>\n",
       "      <td>0</td>\n",
       "      <td>0</td>\n",
       "      <td>0</td>\n",
       "      <td>2023-02-01</td>\n",
       "      <td>2</td>\n",
       "      <td>0</td>\n",
       "    </tr>\n",
       "    <tr>\n",
       "      <th>4</th>\n",
       "      <td>0</td>\n",
       "      <td>0</td>\n",
       "      <td>0</td>\n",
       "      <td>0</td>\n",
       "      <td>0</td>\n",
       "      <td>0</td>\n",
       "      <td>0</td>\n",
       "      <td>0</td>\n",
       "      <td>0</td>\n",
       "      <td>0</td>\n",
       "      <td>...</td>\n",
       "      <td>0</td>\n",
       "      <td>0</td>\n",
       "      <td>0</td>\n",
       "      <td>0</td>\n",
       "      <td>0</td>\n",
       "      <td>0</td>\n",
       "      <td>0</td>\n",
       "      <td>2023-02-02</td>\n",
       "      <td>2</td>\n",
       "      <td>0</td>\n",
       "    </tr>\n",
       "    <tr>\n",
       "      <th>...</th>\n",
       "      <td>...</td>\n",
       "      <td>...</td>\n",
       "      <td>...</td>\n",
       "      <td>...</td>\n",
       "      <td>...</td>\n",
       "      <td>...</td>\n",
       "      <td>...</td>\n",
       "      <td>...</td>\n",
       "      <td>...</td>\n",
       "      <td>...</td>\n",
       "      <td>...</td>\n",
       "      <td>...</td>\n",
       "      <td>...</td>\n",
       "      <td>...</td>\n",
       "      <td>...</td>\n",
       "      <td>...</td>\n",
       "      <td>...</td>\n",
       "      <td>...</td>\n",
       "      <td>...</td>\n",
       "      <td>...</td>\n",
       "      <td>...</td>\n",
       "    </tr>\n",
       "    <tr>\n",
       "      <th>87615</th>\n",
       "      <td>25</td>\n",
       "      <td>14</td>\n",
       "      <td>5</td>\n",
       "      <td>3</td>\n",
       "      <td>7</td>\n",
       "      <td>16</td>\n",
       "      <td>53</td>\n",
       "      <td>133</td>\n",
       "      <td>126</td>\n",
       "      <td>136</td>\n",
       "      <td>...</td>\n",
       "      <td>62</td>\n",
       "      <td>62</td>\n",
       "      <td>58</td>\n",
       "      <td>50</td>\n",
       "      <td>48</td>\n",
       "      <td>42</td>\n",
       "      <td>37</td>\n",
       "      <td>2023-12-27</td>\n",
       "      <td>263</td>\n",
       "      <td>12</td>\n",
       "    </tr>\n",
       "    <tr>\n",
       "      <th>87616</th>\n",
       "      <td>30</td>\n",
       "      <td>7</td>\n",
       "      <td>9</td>\n",
       "      <td>6</td>\n",
       "      <td>5</td>\n",
       "      <td>23</td>\n",
       "      <td>58</td>\n",
       "      <td>123</td>\n",
       "      <td>136</td>\n",
       "      <td>108</td>\n",
       "      <td>...</td>\n",
       "      <td>64</td>\n",
       "      <td>79</td>\n",
       "      <td>65</td>\n",
       "      <td>71</td>\n",
       "      <td>72</td>\n",
       "      <td>75</td>\n",
       "      <td>35</td>\n",
       "      <td>2023-12-28</td>\n",
       "      <td>263</td>\n",
       "      <td>19</td>\n",
       "    </tr>\n",
       "    <tr>\n",
       "      <th>87617</th>\n",
       "      <td>50</td>\n",
       "      <td>26</td>\n",
       "      <td>17</td>\n",
       "      <td>9</td>\n",
       "      <td>8</td>\n",
       "      <td>11</td>\n",
       "      <td>43</td>\n",
       "      <td>116</td>\n",
       "      <td>137</td>\n",
       "      <td>132</td>\n",
       "      <td>...</td>\n",
       "      <td>81</td>\n",
       "      <td>78</td>\n",
       "      <td>60</td>\n",
       "      <td>85</td>\n",
       "      <td>63</td>\n",
       "      <td>62</td>\n",
       "      <td>37</td>\n",
       "      <td>2023-12-29</td>\n",
       "      <td>263</td>\n",
       "      <td>38</td>\n",
       "    </tr>\n",
       "    <tr>\n",
       "      <th>87618</th>\n",
       "      <td>117</td>\n",
       "      <td>88</td>\n",
       "      <td>39</td>\n",
       "      <td>19</td>\n",
       "      <td>14</td>\n",
       "      <td>12</td>\n",
       "      <td>27</td>\n",
       "      <td>37</td>\n",
       "      <td>70</td>\n",
       "      <td>97</td>\n",
       "      <td>...</td>\n",
       "      <td>84</td>\n",
       "      <td>75</td>\n",
       "      <td>100</td>\n",
       "      <td>98</td>\n",
       "      <td>88</td>\n",
       "      <td>77</td>\n",
       "      <td>69</td>\n",
       "      <td>2023-12-30</td>\n",
       "      <td>263</td>\n",
       "      <td>59</td>\n",
       "    </tr>\n",
       "    <tr>\n",
       "      <th>87619</th>\n",
       "      <td>120</td>\n",
       "      <td>82</td>\n",
       "      <td>61</td>\n",
       "      <td>41</td>\n",
       "      <td>13</td>\n",
       "      <td>12</td>\n",
       "      <td>26</td>\n",
       "      <td>37</td>\n",
       "      <td>45</td>\n",
       "      <td>99</td>\n",
       "      <td>...</td>\n",
       "      <td>85</td>\n",
       "      <td>76</td>\n",
       "      <td>95</td>\n",
       "      <td>68</td>\n",
       "      <td>76</td>\n",
       "      <td>71</td>\n",
       "      <td>61</td>\n",
       "      <td>2023-12-31</td>\n",
       "      <td>263</td>\n",
       "      <td>65</td>\n",
       "    </tr>\n",
       "  </tbody>\n",
       "</table>\n",
       "<p>87620 rows × 675 columns</p>\n",
       "</div>"
      ],
      "text/plain": [
       "       rides_t-672  rides_t-671  rides_t-670  rides_t-669  rides_t-668  \\\n",
       "0                0            0            0            0            0   \n",
       "1                0            0            0            0            0   \n",
       "2                0            0            0            0            0   \n",
       "3                0            0            0            0            0   \n",
       "4                0            0            0            0            0   \n",
       "...            ...          ...          ...          ...          ...   \n",
       "87615           25           14            5            3            7   \n",
       "87616           30            7            9            6            5   \n",
       "87617           50           26           17            9            8   \n",
       "87618          117           88           39           19           14   \n",
       "87619          120           82           61           41           13   \n",
       "\n",
       "       rides_t-667  rides_t-666  rides_t-665  rides_t-664  rides_t-663  ...  \\\n",
       "0                0            0            0            0            0  ...   \n",
       "1                0            0            0            0            0  ...   \n",
       "2                0            0            0            0            0  ...   \n",
       "3                0            0            0            0            0  ...   \n",
       "4                0            0            0            0            0  ...   \n",
       "...            ...          ...          ...          ...          ...  ...   \n",
       "87615           16           53          133          126          136  ...   \n",
       "87616           23           58          123          136          108  ...   \n",
       "87617           11           43          116          137          132  ...   \n",
       "87618           12           27           37           70           97  ...   \n",
       "87619           12           26           37           45           99  ...   \n",
       "\n",
       "       rides_t-7  rides_t-6  rides_t-5  rides_t-4  rides_t-3  rides_t-2  \\\n",
       "0              1          0          0          0          0          0   \n",
       "1              0          0          0          0          0          0   \n",
       "2              0          0          0          0          0          0   \n",
       "3              0          0          0          0          0          0   \n",
       "4              0          0          0          0          0          0   \n",
       "...          ...        ...        ...        ...        ...        ...   \n",
       "87615         62         62         58         50         48         42   \n",
       "87616         64         79         65         71         72         75   \n",
       "87617         81         78         60         85         63         62   \n",
       "87618         84         75        100         98         88         77   \n",
       "87619         85         76         95         68         76         71   \n",
       "\n",
       "       rides_t-1  pickup_hour  pickup_location_id  target  \n",
       "0              0   2023-01-29                   2       0  \n",
       "1              0   2023-01-30                   2       0  \n",
       "2              0   2023-01-31                   2       0  \n",
       "3              0   2023-02-01                   2       0  \n",
       "4              0   2023-02-02                   2       0  \n",
       "...          ...          ...                 ...     ...  \n",
       "87615         37   2023-12-27                 263      12  \n",
       "87616         35   2023-12-28                 263      19  \n",
       "87617         37   2023-12-29                 263      38  \n",
       "87618         69   2023-12-30                 263      59  \n",
       "87619         61   2023-12-31                 263      65  \n",
       "\n",
       "[87620 rows x 675 columns]"
      ]
     },
     "execution_count": 3,
     "metadata": {},
     "output_type": "execute_result"
    }
   ],
   "source": [
    "import pandas as pd\n",
    "from src.config import TRANSFORMED_DATA_DIR\n",
    "\n",
    "df = pd.read_parquet(TRANSFORMED_DATA_DIR / \"tabular_data.parquet\")\n",
    "df"
   ]
  },
  {
   "cell_type": "code",
   "execution_count": 4,
   "id": "375ff8cf-b58e-4e8c-8d91-80b325d5cf31",
   "metadata": {},
   "outputs": [
    {
     "name": "stdout",
     "output_type": "stream",
     "text": [
      "(63700, 674)\n",
      "(63700,)\n",
      "(23920, 674)\n",
      "(23920,)\n"
     ]
    }
   ],
   "source": [
    "from datetime import datetime\n",
    "\n",
    "from src.data_utils import split_time_series_data\n",
    "\n",
    "X_train, y_train, X_test, y_test = split_time_series_data(\n",
    "    df,\n",
    "    cutoff_date=datetime(2023, 10, 1, 0, 0, 0),\n",
    "    target_column=\"target\"\n",
    ")\n",
    "\n",
    "print(X_train.shape)\n",
    "print(y_train.shape)\n",
    "print(X_test.shape)\n",
    "print(y_test.shape)"
   ]
  },
  {
   "cell_type": "code",
   "execution_count": 5,
   "id": "607bfb35-84cf-4410-a4ac-5075d1d4a8f1",
   "metadata": {},
   "outputs": [],
   "source": [
    "import numpy as np\n",
    "\n",
    "class BaselineModelPreviousHour:\n",
    "\n",
    "    def fit(self, X_train: pd.DataFrame, y_train: pd.Series):\n",
    "        pass\n",
    "\n",
    "    def predict(self, X_test: pd.DataFrame) -> np.array:\n",
    "        return X_test[f\"rides_t-{7*24}\"]"
   ]
  },
  {
   "cell_type": "code",
   "execution_count": 6,
   "id": "6bd315ce-2039-4ebf-9c1d-d56003bf3db2",
   "metadata": {},
   "outputs": [
    {
     "data": {
      "text/plain": [
       "0         0\n",
       "1         0\n",
       "2         0\n",
       "3         0\n",
       "4         0\n",
       "         ..\n",
       "23915    44\n",
       "23916    31\n",
       "23917    89\n",
       "23918    56\n",
       "23919    32\n",
       "Name: rides_t-168, Length: 23920, dtype: int64"
      ]
     },
     "execution_count": 6,
     "metadata": {},
     "output_type": "execute_result"
    }
   ],
   "source": [
    "model = BaselineModelPreviousHour()\n",
    "predictions = model.predict(X_test)\n",
    "predictions"
   ]
  },
  {
   "cell_type": "code",
   "execution_count": 7,
   "id": "23ab1392-4ba7-48a9-88d7-c882bf500222",
   "metadata": {},
   "outputs": [
    {
     "name": "stdout",
     "output_type": "stream",
     "text": [
      "4.9241\n"
     ]
    }
   ],
   "source": [
    "from sklearn.metrics import mean_absolute_error\n",
    "\n",
    "test_mae = mean_absolute_error(y_test, predictions)\n",
    "print(f\"{test_mae:.4f}\")"
   ]
  },
  {
   "cell_type": "code",
   "execution_count": 9,
   "id": "1cd98cb4-c618-4e4d-8cca-d457edea1698",
   "metadata": {},
   "outputs": [
    {
     "name": "stderr",
     "output_type": "stream",
     "text": [
      "INFO:src.experiment_utils:MLflow tracking URI and credentials set.\n"
     ]
    }
   ],
   "source": [
    "from src.experiment_utils import set_mlflow_tracking, log_model_to_mlflow\n",
    "from dotenv import load_dotenv\n",
    "load_dotenv() \n",
    "\n",
    "mlflow = set_mlflow_tracking()\n"
   ]
  },
  {
   "cell_type": "code",
   "execution_count": 10,
   "id": "48af73a3-62fd-4096-bc52-685e9cd787cf",
   "metadata": {},
   "outputs": [
    {
     "name": "stderr",
     "output_type": "stream",
     "text": [
      "INFO:src.experiment_utils:Experiment set to: BaselineModelPreviousHour\n",
      "INFO:src.experiment_utils:Logged mean_absolute_error: 4.924122073578595\n",
      "c:\\Users\\kolpe\\anaconda3\\envs\\nyc_taxi_env\\Lib\\site-packages\\mlflow\\types\\utils.py:452: UserWarning: Hint: Inferred schema contains integer column(s). Integer columns in Python cannot represent missing values. If your input data contains missing values at inference time, it will be encoded as floats and will cause a schema enforcement error. The best way to avoid this problem is to infer the model schema based on a realistic data sample (training dataset) that includes missing values. Alternatively, you can declare integer columns as doubles (float64) whenever these columns may have missing values. See `Handling Integers With Missing Values <https://www.mlflow.org/docs/latest/models.html#handling-integers-with-missing-values>`_ for more details.\n",
      "  warnings.warn(\n",
      "INFO:src.experiment_utils:Model signature inferred.\n"
     ]
    },
    {
     "data": {
      "application/vnd.jupyter.widget-view+json": {
       "model_id": "c4190d68f8334acab7220b7b70affda6",
       "version_major": 2,
       "version_minor": 0
      },
      "text/plain": [
       "Downloading artifacts:   0%|          | 0/7 [00:00<?, ?it/s]"
      ]
     },
     "metadata": {},
     "output_type": "display_data"
    },
    {
     "name": "stderr",
     "output_type": "stream",
     "text": [
      "2025/03/05 12:07:36 INFO mlflow.models.model: Found the following environment variables used during model inference: [HOPSWORKS_API_KEY]. Please check if you need to set them when deploying the model. To disable this message, set environment variable `MLFLOW_RECORD_ENV_VARS_IN_MODEL_LOGGING` to `false`.\n",
      "Registered model 'BaselineModelPreviousHour' already exists. Creating a new version of this model...\n",
      "2025/03/05 12:09:03 INFO mlflow.store.model_registry.abstract_store: Waiting up to 300 seconds for model version to finish creation. Model name: BaselineModelPreviousHour, version 4\n",
      "Created version '4' of model 'BaselineModelPreviousHour'.\n",
      "INFO:src.experiment_utils:Model logged with name: BaselineModelPreviousHour\n"
     ]
    },
    {
     "name": "stdout",
     "output_type": "stream",
     "text": [
      "🏃 View run legendary-wasp-569 at: https://dagshub.com/tejaskolpek/taxi_project.mlflow/#/experiments/0/runs/690e2cf8c4454684b4b22871e1a8614e\n",
      "🧪 View experiment at: https://dagshub.com/tejaskolpek/taxi_project.mlflow/#/experiments/0\n"
     ]
    },
    {
     "data": {
      "text/plain": [
       "<mlflow.models.model.ModelInfo at 0x2bde55edb90>"
      ]
     },
     "execution_count": 10,
     "metadata": {},
     "output_type": "execute_result"
    }
   ],
   "source": [
    "log_model_to_mlflow(model, X_test, \"BaselineModelPreviousHour\", \"mean_absolute_error\", score=test_mae)"
   ]
  },
  {
   "cell_type": "code",
   "execution_count": 11,
   "id": "3a514fbb-4ea7-4261-802e-b6d9572ddd76",
   "metadata": {},
   "outputs": [],
   "source": [
    "import numpy as np\n",
    "\n",
    "class BaselineModelPreviousWeek:\n",
    "\n",
    "    def fit(self, X_train: pd.DataFrame, y_train: pd.Series):\n",
    "        pass\n",
    "\n",
    "    def predict(self, X_test: pd.DataFrame) -> np.array:\n",
    "        return X_test[f\"rides_t-{7*24}\"]\n"
   ]
  },
  {
   "cell_type": "code",
   "execution_count": 12,
   "id": "ce2a60d5-75ce-493f-b938-6f4112abf9eb",
   "metadata": {},
   "outputs": [],
   "source": [
    "model = BaselineModelPreviousWeek()\n",
    "predictions = model.predict(X_test)"
   ]
  },
  {
   "cell_type": "code",
   "execution_count": 13,
   "id": "5de6b0c8-a9f9-434c-be3e-d7cdf5a4c8ec",
   "metadata": {},
   "outputs": [
    {
     "name": "stdout",
     "output_type": "stream",
     "text": [
      "4.9241\n"
     ]
    }
   ],
   "source": [
    "test_mae = mean_absolute_error(y_test, predictions)\n",
    "print(f\"{test_mae:.4f}\")"
   ]
  },
  {
   "cell_type": "code",
   "execution_count": 14,
   "id": "db5cf5f3-3be7-4735-8b43-d752599aedc4",
   "metadata": {},
   "outputs": [
    {
     "name": "stderr",
     "output_type": "stream",
     "text": [
      "INFO:src.experiment_utils:Experiment set to: BaselineModelPreviousWeek\n",
      "INFO:src.experiment_utils:Logged mean_absolute_error: 4.924122073578595\n",
      "c:\\Users\\kolpe\\anaconda3\\envs\\nyc_taxi_env\\Lib\\site-packages\\mlflow\\types\\utils.py:452: UserWarning: Hint: Inferred schema contains integer column(s). Integer columns in Python cannot represent missing values. If your input data contains missing values at inference time, it will be encoded as floats and will cause a schema enforcement error. The best way to avoid this problem is to infer the model schema based on a realistic data sample (training dataset) that includes missing values. Alternatively, you can declare integer columns as doubles (float64) whenever these columns may have missing values. See `Handling Integers With Missing Values <https://www.mlflow.org/docs/latest/models.html#handling-integers-with-missing-values>`_ for more details.\n",
      "  warnings.warn(\n",
      "INFO:src.experiment_utils:Model signature inferred.\n"
     ]
    },
    {
     "data": {
      "application/vnd.jupyter.widget-view+json": {
       "model_id": "4830390be3454af383611c8a2f90cc33",
       "version_major": 2,
       "version_minor": 0
      },
      "text/plain": [
       "Downloading artifacts:   0%|          | 0/7 [00:00<?, ?it/s]"
      ]
     },
     "metadata": {},
     "output_type": "display_data"
    },
    {
     "name": "stderr",
     "output_type": "stream",
     "text": [
      "Registered model 'BaselineModelPreviousWeek' already exists. Creating a new version of this model...\n",
      "2025/03/05 12:11:17 INFO mlflow.store.model_registry.abstract_store: Waiting up to 300 seconds for model version to finish creation. Model name: BaselineModelPreviousWeek, version 4\n",
      "Created version '4' of model 'BaselineModelPreviousWeek'.\n",
      "INFO:src.experiment_utils:Model logged with name: BaselineModelPreviousWeek\n"
     ]
    },
    {
     "name": "stdout",
     "output_type": "stream",
     "text": [
      "🏃 View run suave-foal-495 at: https://dagshub.com/tejaskolpek/taxi_project.mlflow/#/experiments/1/runs/ef396f74cef94d78a069be53ffb08c0c\n",
      "🧪 View experiment at: https://dagshub.com/tejaskolpek/taxi_project.mlflow/#/experiments/1\n"
     ]
    },
    {
     "data": {
      "text/plain": [
       "<mlflow.models.model.ModelInfo at 0x2bdfb90bb10>"
      ]
     },
     "execution_count": 14,
     "metadata": {},
     "output_type": "execute_result"
    }
   ],
   "source": [
    "log_model_to_mlflow(model, X_test, \"BaselineModelPreviousWeek\", \"mean_absolute_error\", score=test_mae)"
   ]
  },
  {
   "cell_type": "code",
   "execution_count": 15,
   "id": "81cdad64-c6b2-44fc-8cf1-38803199e771",
   "metadata": {},
   "outputs": [],
   "source": [
    "import numpy as np\n",
    "import pandas as pd\n",
    "\n",
    "class BaselineModelLast4Weeks:\n",
    "    \"\"\"\n",
    "    A baseline model that predicts the average of the last 4 weeks (28 days)\n",
    "    for each test instance.\n",
    "    \"\"\"\n",
    "\n",
    "    def fit(self, X_train: pd.DataFrame, y_train: pd.Series):\n",
    "        \"\"\"\n",
    "        The fit method is not used in this baseline model as it does not learn\n",
    "        from the training data.\n",
    "        \"\"\"\n",
    "        pass\n",
    "\n",
    "    def predict(self, X_test: pd.DataFrame) -> np.array:\n",
    "        \"\"\"\n",
    "        Predicts the average of the last 4 weeks (28 days) for each test instance.\n",
    "\n",
    "        Parameters:\n",
    "            X_test (pd.DataFrame): The test DataFrame containing lagged features\n",
    "                                   (e.g., rides_t-{7*24}, rides_t-{14*24}, etc.).\n",
    "\n",
    "        Returns:\n",
    "            np.array: An array of predictions based on the average of the last 4 weeks.\n",
    "        \"\"\"\n",
    "        # Define the columns for the last 4 weeks\n",
    "        last_4_weeks_columns = [\n",
    "            f\"rides_t-{7*24}\",  # 1 week ago\n",
    "            f\"rides_t-{14*24}\", # 2 weeks ago\n",
    "            f\"rides_t-{21*24}\", # 3 weeks ago\n",
    "            f\"rides_t-{28*24}\"  # 4 weeks ago\n",
    "        ]\n",
    "\n",
    "        # Ensure the required columns exist in the test DataFrame\n",
    "        for col in last_4_weeks_columns:\n",
    "            if col not in X_test.columns:\n",
    "                raise ValueError(f\"Missing required column: {col}\")\n",
    "\n",
    "        # Calculate the average of the last 4 weeks\n",
    "        predictions = X_test[last_4_weeks_columns].mean(axis=1)\n",
    "\n",
    "        return predictions.to_numpy()"
   ]
  },
  {
   "cell_type": "code",
   "execution_count": 16,
   "id": "c578e858-3a10-4903-9647-394d975f4a50",
   "metadata": {},
   "outputs": [],
   "source": [
    "model = BaselineModelLast4Weeks()\n",
    "predictions = model.predict(X_test)"
   ]
  },
  {
   "cell_type": "code",
   "execution_count": 17,
   "id": "ef59ced3-dae5-4ef8-bcc8-234012e4377c",
   "metadata": {},
   "outputs": [
    {
     "data": {
      "text/html": [
       "<div>\n",
       "<style scoped>\n",
       "    .dataframe tbody tr th:only-of-type {\n",
       "        vertical-align: middle;\n",
       "    }\n",
       "\n",
       "    .dataframe tbody tr th {\n",
       "        vertical-align: top;\n",
       "    }\n",
       "\n",
       "    .dataframe thead th {\n",
       "        text-align: right;\n",
       "    }\n",
       "</style>\n",
       "<table border=\"1\" class=\"dataframe\">\n",
       "  <thead>\n",
       "    <tr style=\"text-align: right;\">\n",
       "      <th></th>\n",
       "      <th>rides_t-672</th>\n",
       "      <th>rides_t-671</th>\n",
       "      <th>rides_t-670</th>\n",
       "      <th>rides_t-669</th>\n",
       "      <th>rides_t-668</th>\n",
       "      <th>rides_t-667</th>\n",
       "      <th>rides_t-666</th>\n",
       "      <th>rides_t-665</th>\n",
       "      <th>rides_t-664</th>\n",
       "      <th>rides_t-663</th>\n",
       "      <th>...</th>\n",
       "      <th>rides_t-8</th>\n",
       "      <th>rides_t-7</th>\n",
       "      <th>rides_t-6</th>\n",
       "      <th>rides_t-5</th>\n",
       "      <th>rides_t-4</th>\n",
       "      <th>rides_t-3</th>\n",
       "      <th>rides_t-2</th>\n",
       "      <th>rides_t-1</th>\n",
       "      <th>pickup_hour</th>\n",
       "      <th>pickup_location_id</th>\n",
       "    </tr>\n",
       "  </thead>\n",
       "  <tbody>\n",
       "    <tr>\n",
       "      <th>3772</th>\n",
       "      <td>15</td>\n",
       "      <td>2</td>\n",
       "      <td>0</td>\n",
       "      <td>0</td>\n",
       "      <td>1</td>\n",
       "      <td>1</td>\n",
       "      <td>5</td>\n",
       "      <td>11</td>\n",
       "      <td>21</td>\n",
       "      <td>30</td>\n",
       "      <td>...</td>\n",
       "      <td>213</td>\n",
       "      <td>172</td>\n",
       "      <td>140</td>\n",
       "      <td>147</td>\n",
       "      <td>123</td>\n",
       "      <td>95</td>\n",
       "      <td>130</td>\n",
       "      <td>51</td>\n",
       "      <td>2023-10-01</td>\n",
       "      <td>43</td>\n",
       "    </tr>\n",
       "    <tr>\n",
       "      <th>3773</th>\n",
       "      <td>20</td>\n",
       "      <td>0</td>\n",
       "      <td>1</td>\n",
       "      <td>1</td>\n",
       "      <td>4</td>\n",
       "      <td>2</td>\n",
       "      <td>7</td>\n",
       "      <td>10</td>\n",
       "      <td>13</td>\n",
       "      <td>22</td>\n",
       "      <td>...</td>\n",
       "      <td>213</td>\n",
       "      <td>135</td>\n",
       "      <td>102</td>\n",
       "      <td>63</td>\n",
       "      <td>34</td>\n",
       "      <td>30</td>\n",
       "      <td>29</td>\n",
       "      <td>10</td>\n",
       "      <td>2023-10-02</td>\n",
       "      <td>43</td>\n",
       "    </tr>\n",
       "    <tr>\n",
       "      <th>3774</th>\n",
       "      <td>4</td>\n",
       "      <td>1</td>\n",
       "      <td>1</td>\n",
       "      <td>1</td>\n",
       "      <td>1</td>\n",
       "      <td>4</td>\n",
       "      <td>19</td>\n",
       "      <td>30</td>\n",
       "      <td>45</td>\n",
       "      <td>48</td>\n",
       "      <td>...</td>\n",
       "      <td>164</td>\n",
       "      <td>120</td>\n",
       "      <td>123</td>\n",
       "      <td>69</td>\n",
       "      <td>92</td>\n",
       "      <td>91</td>\n",
       "      <td>42</td>\n",
       "      <td>16</td>\n",
       "      <td>2023-10-03</td>\n",
       "      <td>43</td>\n",
       "    </tr>\n",
       "    <tr>\n",
       "      <th>3775</th>\n",
       "      <td>6</td>\n",
       "      <td>0</td>\n",
       "      <td>4</td>\n",
       "      <td>0</td>\n",
       "      <td>0</td>\n",
       "      <td>8</td>\n",
       "      <td>9</td>\n",
       "      <td>38</td>\n",
       "      <td>64</td>\n",
       "      <td>88</td>\n",
       "      <td>...</td>\n",
       "      <td>177</td>\n",
       "      <td>165</td>\n",
       "      <td>147</td>\n",
       "      <td>95</td>\n",
       "      <td>88</td>\n",
       "      <td>56</td>\n",
       "      <td>71</td>\n",
       "      <td>23</td>\n",
       "      <td>2023-10-04</td>\n",
       "      <td>43</td>\n",
       "    </tr>\n",
       "    <tr>\n",
       "      <th>3776</th>\n",
       "      <td>9</td>\n",
       "      <td>1</td>\n",
       "      <td>0</td>\n",
       "      <td>1</td>\n",
       "      <td>1</td>\n",
       "      <td>1</td>\n",
       "      <td>16</td>\n",
       "      <td>49</td>\n",
       "      <td>101</td>\n",
       "      <td>94</td>\n",
       "      <td>...</td>\n",
       "      <td>144</td>\n",
       "      <td>129</td>\n",
       "      <td>125</td>\n",
       "      <td>108</td>\n",
       "      <td>108</td>\n",
       "      <td>148</td>\n",
       "      <td>148</td>\n",
       "      <td>17</td>\n",
       "      <td>2023-10-05</td>\n",
       "      <td>43</td>\n",
       "    </tr>\n",
       "    <tr>\n",
       "      <th>...</th>\n",
       "      <td>...</td>\n",
       "      <td>...</td>\n",
       "      <td>...</td>\n",
       "      <td>...</td>\n",
       "      <td>...</td>\n",
       "      <td>...</td>\n",
       "      <td>...</td>\n",
       "      <td>...</td>\n",
       "      <td>...</td>\n",
       "      <td>...</td>\n",
       "      <td>...</td>\n",
       "      <td>...</td>\n",
       "      <td>...</td>\n",
       "      <td>...</td>\n",
       "      <td>...</td>\n",
       "      <td>...</td>\n",
       "      <td>...</td>\n",
       "      <td>...</td>\n",
       "      <td>...</td>\n",
       "      <td>...</td>\n",
       "      <td>...</td>\n",
       "    </tr>\n",
       "    <tr>\n",
       "      <th>3859</th>\n",
       "      <td>3</td>\n",
       "      <td>0</td>\n",
       "      <td>1</td>\n",
       "      <td>0</td>\n",
       "      <td>1</td>\n",
       "      <td>6</td>\n",
       "      <td>13</td>\n",
       "      <td>54</td>\n",
       "      <td>106</td>\n",
       "      <td>83</td>\n",
       "      <td>...</td>\n",
       "      <td>205</td>\n",
       "      <td>132</td>\n",
       "      <td>64</td>\n",
       "      <td>49</td>\n",
       "      <td>44</td>\n",
       "      <td>31</td>\n",
       "      <td>14</td>\n",
       "      <td>10</td>\n",
       "      <td>2023-12-27</td>\n",
       "      <td>43</td>\n",
       "    </tr>\n",
       "    <tr>\n",
       "      <th>3860</th>\n",
       "      <td>6</td>\n",
       "      <td>2</td>\n",
       "      <td>2</td>\n",
       "      <td>0</td>\n",
       "      <td>1</td>\n",
       "      <td>7</td>\n",
       "      <td>8</td>\n",
       "      <td>58</td>\n",
       "      <td>84</td>\n",
       "      <td>90</td>\n",
       "      <td>...</td>\n",
       "      <td>97</td>\n",
       "      <td>57</td>\n",
       "      <td>73</td>\n",
       "      <td>29</td>\n",
       "      <td>48</td>\n",
       "      <td>42</td>\n",
       "      <td>24</td>\n",
       "      <td>7</td>\n",
       "      <td>2023-12-28</td>\n",
       "      <td>43</td>\n",
       "    </tr>\n",
       "    <tr>\n",
       "      <th>3861</th>\n",
       "      <td>20</td>\n",
       "      <td>7</td>\n",
       "      <td>2</td>\n",
       "      <td>0</td>\n",
       "      <td>3</td>\n",
       "      <td>3</td>\n",
       "      <td>13</td>\n",
       "      <td>54</td>\n",
       "      <td>67</td>\n",
       "      <td>90</td>\n",
       "      <td>...</td>\n",
       "      <td>239</td>\n",
       "      <td>128</td>\n",
       "      <td>73</td>\n",
       "      <td>52</td>\n",
       "      <td>50</td>\n",
       "      <td>43</td>\n",
       "      <td>30</td>\n",
       "      <td>17</td>\n",
       "      <td>2023-12-29</td>\n",
       "      <td>43</td>\n",
       "    </tr>\n",
       "    <tr>\n",
       "      <th>3862</th>\n",
       "      <td>10</td>\n",
       "      <td>8</td>\n",
       "      <td>3</td>\n",
       "      <td>1</td>\n",
       "      <td>3</td>\n",
       "      <td>0</td>\n",
       "      <td>8</td>\n",
       "      <td>19</td>\n",
       "      <td>35</td>\n",
       "      <td>67</td>\n",
       "      <td>...</td>\n",
       "      <td>200</td>\n",
       "      <td>185</td>\n",
       "      <td>160</td>\n",
       "      <td>133</td>\n",
       "      <td>158</td>\n",
       "      <td>69</td>\n",
       "      <td>33</td>\n",
       "      <td>19</td>\n",
       "      <td>2023-12-30</td>\n",
       "      <td>43</td>\n",
       "    </tr>\n",
       "    <tr>\n",
       "      <th>3863</th>\n",
       "      <td>19</td>\n",
       "      <td>10</td>\n",
       "      <td>1</td>\n",
       "      <td>2</td>\n",
       "      <td>2</td>\n",
       "      <td>3</td>\n",
       "      <td>2</td>\n",
       "      <td>23</td>\n",
       "      <td>28</td>\n",
       "      <td>64</td>\n",
       "      <td>...</td>\n",
       "      <td>192</td>\n",
       "      <td>173</td>\n",
       "      <td>144</td>\n",
       "      <td>111</td>\n",
       "      <td>133</td>\n",
       "      <td>78</td>\n",
       "      <td>39</td>\n",
       "      <td>28</td>\n",
       "      <td>2023-12-31</td>\n",
       "      <td>43</td>\n",
       "    </tr>\n",
       "  </tbody>\n",
       "</table>\n",
       "<p>92 rows × 674 columns</p>\n",
       "</div>"
      ],
      "text/plain": [
       "      rides_t-672  rides_t-671  rides_t-670  rides_t-669  rides_t-668  \\\n",
       "3772           15            2            0            0            1   \n",
       "3773           20            0            1            1            4   \n",
       "3774            4            1            1            1            1   \n",
       "3775            6            0            4            0            0   \n",
       "3776            9            1            0            1            1   \n",
       "...           ...          ...          ...          ...          ...   \n",
       "3859            3            0            1            0            1   \n",
       "3860            6            2            2            0            1   \n",
       "3861           20            7            2            0            3   \n",
       "3862           10            8            3            1            3   \n",
       "3863           19           10            1            2            2   \n",
       "\n",
       "      rides_t-667  rides_t-666  rides_t-665  rides_t-664  rides_t-663  ...  \\\n",
       "3772            1            5           11           21           30  ...   \n",
       "3773            2            7           10           13           22  ...   \n",
       "3774            4           19           30           45           48  ...   \n",
       "3775            8            9           38           64           88  ...   \n",
       "3776            1           16           49          101           94  ...   \n",
       "...           ...          ...          ...          ...          ...  ...   \n",
       "3859            6           13           54          106           83  ...   \n",
       "3860            7            8           58           84           90  ...   \n",
       "3861            3           13           54           67           90  ...   \n",
       "3862            0            8           19           35           67  ...   \n",
       "3863            3            2           23           28           64  ...   \n",
       "\n",
       "      rides_t-8  rides_t-7  rides_t-6  rides_t-5  rides_t-4  rides_t-3  \\\n",
       "3772        213        172        140        147        123         95   \n",
       "3773        213        135        102         63         34         30   \n",
       "3774        164        120        123         69         92         91   \n",
       "3775        177        165        147         95         88         56   \n",
       "3776        144        129        125        108        108        148   \n",
       "...         ...        ...        ...        ...        ...        ...   \n",
       "3859        205        132         64         49         44         31   \n",
       "3860         97         57         73         29         48         42   \n",
       "3861        239        128         73         52         50         43   \n",
       "3862        200        185        160        133        158         69   \n",
       "3863        192        173        144        111        133         78   \n",
       "\n",
       "      rides_t-2  rides_t-1  pickup_hour  pickup_location_id  \n",
       "3772        130         51   2023-10-01                  43  \n",
       "3773         29         10   2023-10-02                  43  \n",
       "3774         42         16   2023-10-03                  43  \n",
       "3775         71         23   2023-10-04                  43  \n",
       "3776        148         17   2023-10-05                  43  \n",
       "...         ...        ...          ...                 ...  \n",
       "3859         14         10   2023-12-27                  43  \n",
       "3860         24          7   2023-12-28                  43  \n",
       "3861         30         17   2023-12-29                  43  \n",
       "3862         33         19   2023-12-30                  43  \n",
       "3863         39         28   2023-12-31                  43  \n",
       "\n",
       "[92 rows x 674 columns]"
      ]
     },
     "execution_count": 17,
     "metadata": {},
     "output_type": "execute_result"
    }
   ],
   "source": [
    "X_test[X_test['pickup_location_id']==43] "
   ]
  },
  {
   "cell_type": "code",
   "execution_count": 18,
   "id": "e106e233-1396-41e9-8906-1d45a1ab6972",
   "metadata": {},
   "outputs": [
    {
     "name": "stdout",
     "output_type": "stream",
     "text": [
      "4.4554\n"
     ]
    }
   ],
   "source": [
    "test_mae = mean_absolute_error(y_test, predictions)\n",
    "print(f\"{test_mae:.4f}\")"
   ]
  },
  {
   "cell_type": "code",
   "execution_count": 19,
   "id": "1da51143-c03b-4e23-ab83-2154b8f12f92",
   "metadata": {},
   "outputs": [
    {
     "name": "stderr",
     "output_type": "stream",
     "text": [
      "INFO:src.experiment_utils:Experiment set to: BaselineModelLast4Weeks\n",
      "INFO:src.experiment_utils:Logged mean_absolute_error: 4.455392976588628\n",
      "c:\\Users\\kolpe\\anaconda3\\envs\\nyc_taxi_env\\Lib\\site-packages\\mlflow\\types\\utils.py:452: UserWarning: Hint: Inferred schema contains integer column(s). Integer columns in Python cannot represent missing values. If your input data contains missing values at inference time, it will be encoded as floats and will cause a schema enforcement error. The best way to avoid this problem is to infer the model schema based on a realistic data sample (training dataset) that includes missing values. Alternatively, you can declare integer columns as doubles (float64) whenever these columns may have missing values. See `Handling Integers With Missing Values <https://www.mlflow.org/docs/latest/models.html#handling-integers-with-missing-values>`_ for more details.\n",
      "  warnings.warn(\n",
      "INFO:src.experiment_utils:Model signature inferred.\n"
     ]
    },
    {
     "data": {
      "application/vnd.jupyter.widget-view+json": {
       "model_id": "70aae5c9b7ef46a189fb41ae175b0bad",
       "version_major": 2,
       "version_minor": 0
      },
      "text/plain": [
       "Downloading artifacts:   0%|          | 0/7 [00:00<?, ?it/s]"
      ]
     },
     "metadata": {},
     "output_type": "display_data"
    },
    {
     "name": "stderr",
     "output_type": "stream",
     "text": [
      "Registered model 'BaselineModelLast4Weeks' already exists. Creating a new version of this model...\n",
      "2025/03/05 12:13:28 INFO mlflow.store.model_registry.abstract_store: Waiting up to 300 seconds for model version to finish creation. Model name: BaselineModelLast4Weeks, version 3\n",
      "Created version '3' of model 'BaselineModelLast4Weeks'.\n",
      "INFO:src.experiment_utils:Model logged with name: BaselineModelLast4Weeks\n"
     ]
    },
    {
     "name": "stdout",
     "output_type": "stream",
     "text": [
      "🏃 View run dapper-mouse-58 at: https://dagshub.com/tejaskolpek/taxi_project.mlflow/#/experiments/2/runs/d1f79fa165b74898aa35b4aa3f5c30be\n",
      "🧪 View experiment at: https://dagshub.com/tejaskolpek/taxi_project.mlflow/#/experiments/2\n"
     ]
    },
    {
     "data": {
      "text/plain": [
       "<mlflow.models.model.ModelInfo at 0x2bde59fb7d0>"
      ]
     },
     "execution_count": 19,
     "metadata": {},
     "output_type": "execute_result"
    }
   ],
   "source": [
    "log_model_to_mlflow(model, X_test, \"BaselineModelLast4Weeks\", \"mean_absolute_error\", score=test_mae)"
   ]
  },
  {
   "cell_type": "code",
   "execution_count": 21,
   "id": "d271232c-97c6-499b-b5c8-0a66149c5fef",
   "metadata": {},
   "outputs": [
    {
     "data": {
      "application/vnd.plotly.v1+json": {
       "config": {
        "plotlyServerURL": "https://plot.ly"
       },
       "data": [
        {
         "hovertemplate": "Time=%{x}<br>Ride Counts=%{y}<extra></extra>",
         "legendgroup": "",
         "line": {
          "color": "#636efa",
          "dash": "solid"
         },
         "marker": {
          "symbol": "circle"
         },
         "mode": "lines+markers",
         "name": "",
         "orientation": "v",
         "showlegend": false,
         "type": "scatter",
         "x": [
          "2023-10-07T00:00:00.000000000",
          "2023-10-07T01:00:00.000000000",
          "2023-10-07T02:00:00.000000000",
          "2023-10-07T03:00:00.000000000",
          "2023-10-07T04:00:00.000000000",
          "2023-10-07T05:00:00.000000000",
          "2023-10-07T06:00:00.000000000",
          "2023-10-07T07:00:00.000000000",
          "2023-10-07T08:00:00.000000000",
          "2023-10-07T09:00:00.000000000",
          "2023-10-07T10:00:00.000000000",
          "2023-10-07T11:00:00.000000000",
          "2023-10-07T12:00:00.000000000",
          "2023-10-07T13:00:00.000000000",
          "2023-10-07T14:00:00.000000000",
          "2023-10-07T15:00:00.000000000",
          "2023-10-07T16:00:00.000000000",
          "2023-10-07T17:00:00.000000000",
          "2023-10-07T18:00:00.000000000",
          "2023-10-07T19:00:00.000000000",
          "2023-10-07T20:00:00.000000000",
          "2023-10-07T21:00:00.000000000",
          "2023-10-07T22:00:00.000000000",
          "2023-10-07T23:00:00.000000000",
          "2023-10-08T00:00:00.000000000",
          "2023-10-08T01:00:00.000000000",
          "2023-10-08T02:00:00.000000000",
          "2023-10-08T03:00:00.000000000",
          "2023-10-08T04:00:00.000000000",
          "2023-10-08T05:00:00.000000000",
          "2023-10-08T06:00:00.000000000",
          "2023-10-08T07:00:00.000000000",
          "2023-10-08T08:00:00.000000000",
          "2023-10-08T09:00:00.000000000",
          "2023-10-08T10:00:00.000000000",
          "2023-10-08T11:00:00.000000000",
          "2023-10-08T12:00:00.000000000",
          "2023-10-08T13:00:00.000000000",
          "2023-10-08T14:00:00.000000000",
          "2023-10-08T15:00:00.000000000",
          "2023-10-08T16:00:00.000000000",
          "2023-10-08T17:00:00.000000000",
          "2023-10-08T18:00:00.000000000",
          "2023-10-08T19:00:00.000000000",
          "2023-10-08T20:00:00.000000000",
          "2023-10-08T21:00:00.000000000",
          "2023-10-08T22:00:00.000000000",
          "2023-10-08T23:00:00.000000000",
          "2023-10-09T00:00:00.000000000",
          "2023-10-09T01:00:00.000000000",
          "2023-10-09T02:00:00.000000000",
          "2023-10-09T03:00:00.000000000",
          "2023-10-09T04:00:00.000000000",
          "2023-10-09T05:00:00.000000000",
          "2023-10-09T06:00:00.000000000",
          "2023-10-09T07:00:00.000000000",
          "2023-10-09T08:00:00.000000000",
          "2023-10-09T09:00:00.000000000",
          "2023-10-09T10:00:00.000000000",
          "2023-10-09T11:00:00.000000000",
          "2023-10-09T12:00:00.000000000",
          "2023-10-09T13:00:00.000000000",
          "2023-10-09T14:00:00.000000000",
          "2023-10-09T15:00:00.000000000",
          "2023-10-09T16:00:00.000000000",
          "2023-10-09T17:00:00.000000000",
          "2023-10-09T18:00:00.000000000",
          "2023-10-09T19:00:00.000000000",
          "2023-10-09T20:00:00.000000000",
          "2023-10-09T21:00:00.000000000",
          "2023-10-09T22:00:00.000000000",
          "2023-10-09T23:00:00.000000000",
          "2023-10-10T00:00:00.000000000",
          "2023-10-10T01:00:00.000000000",
          "2023-10-10T02:00:00.000000000",
          "2023-10-10T03:00:00.000000000",
          "2023-10-10T04:00:00.000000000",
          "2023-10-10T05:00:00.000000000",
          "2023-10-10T06:00:00.000000000",
          "2023-10-10T07:00:00.000000000",
          "2023-10-10T08:00:00.000000000",
          "2023-10-10T09:00:00.000000000",
          "2023-10-10T10:00:00.000000000",
          "2023-10-10T11:00:00.000000000",
          "2023-10-10T12:00:00.000000000",
          "2023-10-10T13:00:00.000000000",
          "2023-10-10T14:00:00.000000000",
          "2023-10-10T15:00:00.000000000",
          "2023-10-10T16:00:00.000000000",
          "2023-10-10T17:00:00.000000000",
          "2023-10-10T18:00:00.000000000",
          "2023-10-10T19:00:00.000000000",
          "2023-10-10T20:00:00.000000000",
          "2023-10-10T21:00:00.000000000",
          "2023-10-10T22:00:00.000000000",
          "2023-10-10T23:00:00.000000000",
          "2023-10-11T00:00:00.000000000",
          "2023-10-11T01:00:00.000000000",
          "2023-10-11T02:00:00.000000000",
          "2023-10-11T03:00:00.000000000",
          "2023-10-11T04:00:00.000000000",
          "2023-10-11T05:00:00.000000000",
          "2023-10-11T06:00:00.000000000",
          "2023-10-11T07:00:00.000000000",
          "2023-10-11T08:00:00.000000000",
          "2023-10-11T09:00:00.000000000",
          "2023-10-11T10:00:00.000000000",
          "2023-10-11T11:00:00.000000000",
          "2023-10-11T12:00:00.000000000",
          "2023-10-11T13:00:00.000000000",
          "2023-10-11T14:00:00.000000000",
          "2023-10-11T15:00:00.000000000",
          "2023-10-11T16:00:00.000000000",
          "2023-10-11T17:00:00.000000000",
          "2023-10-11T18:00:00.000000000",
          "2023-10-11T19:00:00.000000000",
          "2023-10-11T20:00:00.000000000",
          "2023-10-11T21:00:00.000000000",
          "2023-10-11T22:00:00.000000000",
          "2023-10-11T23:00:00.000000000",
          "2023-10-12T00:00:00.000000000",
          "2023-10-12T01:00:00.000000000",
          "2023-10-12T02:00:00.000000000",
          "2023-10-12T03:00:00.000000000",
          "2023-10-12T04:00:00.000000000",
          "2023-10-12T05:00:00.000000000",
          "2023-10-12T06:00:00.000000000",
          "2023-10-12T07:00:00.000000000",
          "2023-10-12T08:00:00.000000000",
          "2023-10-12T09:00:00.000000000",
          "2023-10-12T10:00:00.000000000",
          "2023-10-12T11:00:00.000000000",
          "2023-10-12T12:00:00.000000000",
          "2023-10-12T13:00:00.000000000",
          "2023-10-12T14:00:00.000000000",
          "2023-10-12T15:00:00.000000000",
          "2023-10-12T16:00:00.000000000",
          "2023-10-12T17:00:00.000000000",
          "2023-10-12T18:00:00.000000000",
          "2023-10-12T19:00:00.000000000",
          "2023-10-12T20:00:00.000000000",
          "2023-10-12T21:00:00.000000000",
          "2023-10-12T22:00:00.000000000",
          "2023-10-12T23:00:00.000000000",
          "2023-10-13T00:00:00.000000000",
          "2023-10-13T01:00:00.000000000",
          "2023-10-13T02:00:00.000000000",
          "2023-10-13T03:00:00.000000000",
          "2023-10-13T04:00:00.000000000",
          "2023-10-13T05:00:00.000000000",
          "2023-10-13T06:00:00.000000000",
          "2023-10-13T07:00:00.000000000",
          "2023-10-13T08:00:00.000000000",
          "2023-10-13T09:00:00.000000000",
          "2023-10-13T10:00:00.000000000",
          "2023-10-13T11:00:00.000000000",
          "2023-10-13T12:00:00.000000000",
          "2023-10-13T13:00:00.000000000",
          "2023-10-13T14:00:00.000000000",
          "2023-10-13T15:00:00.000000000",
          "2023-10-13T16:00:00.000000000",
          "2023-10-13T17:00:00.000000000",
          "2023-10-13T18:00:00.000000000",
          "2023-10-13T19:00:00.000000000",
          "2023-10-13T20:00:00.000000000",
          "2023-10-13T21:00:00.000000000",
          "2023-10-13T22:00:00.000000000",
          "2023-10-13T23:00:00.000000000",
          "2023-10-14T00:00:00.000000000",
          "2023-10-14T01:00:00.000000000",
          "2023-10-14T02:00:00.000000000",
          "2023-10-14T03:00:00.000000000",
          "2023-10-14T04:00:00.000000000",
          "2023-10-14T05:00:00.000000000",
          "2023-10-14T06:00:00.000000000",
          "2023-10-14T07:00:00.000000000",
          "2023-10-14T08:00:00.000000000",
          "2023-10-14T09:00:00.000000000",
          "2023-10-14T10:00:00.000000000",
          "2023-10-14T11:00:00.000000000",
          "2023-10-14T12:00:00.000000000",
          "2023-10-14T13:00:00.000000000",
          "2023-10-14T14:00:00.000000000",
          "2023-10-14T15:00:00.000000000",
          "2023-10-14T16:00:00.000000000",
          "2023-10-14T17:00:00.000000000",
          "2023-10-14T18:00:00.000000000",
          "2023-10-14T19:00:00.000000000",
          "2023-10-14T20:00:00.000000000",
          "2023-10-14T21:00:00.000000000",
          "2023-10-14T22:00:00.000000000",
          "2023-10-14T23:00:00.000000000",
          "2023-10-15T00:00:00.000000000",
          "2023-10-15T01:00:00.000000000",
          "2023-10-15T02:00:00.000000000",
          "2023-10-15T03:00:00.000000000",
          "2023-10-15T04:00:00.000000000",
          "2023-10-15T05:00:00.000000000",
          "2023-10-15T06:00:00.000000000",
          "2023-10-15T07:00:00.000000000",
          "2023-10-15T08:00:00.000000000",
          "2023-10-15T09:00:00.000000000",
          "2023-10-15T10:00:00.000000000",
          "2023-10-15T11:00:00.000000000",
          "2023-10-15T12:00:00.000000000",
          "2023-10-15T13:00:00.000000000",
          "2023-10-15T14:00:00.000000000",
          "2023-10-15T15:00:00.000000000",
          "2023-10-15T16:00:00.000000000",
          "2023-10-15T17:00:00.000000000",
          "2023-10-15T18:00:00.000000000",
          "2023-10-15T19:00:00.000000000",
          "2023-10-15T20:00:00.000000000",
          "2023-10-15T21:00:00.000000000",
          "2023-10-15T22:00:00.000000000",
          "2023-10-15T23:00:00.000000000",
          "2023-10-16T00:00:00.000000000",
          "2023-10-16T01:00:00.000000000",
          "2023-10-16T02:00:00.000000000",
          "2023-10-16T03:00:00.000000000",
          "2023-10-16T04:00:00.000000000",
          "2023-10-16T05:00:00.000000000",
          "2023-10-16T06:00:00.000000000",
          "2023-10-16T07:00:00.000000000",
          "2023-10-16T08:00:00.000000000",
          "2023-10-16T09:00:00.000000000",
          "2023-10-16T10:00:00.000000000",
          "2023-10-16T11:00:00.000000000",
          "2023-10-16T12:00:00.000000000",
          "2023-10-16T13:00:00.000000000",
          "2023-10-16T14:00:00.000000000",
          "2023-10-16T15:00:00.000000000",
          "2023-10-16T16:00:00.000000000",
          "2023-10-16T17:00:00.000000000",
          "2023-10-16T18:00:00.000000000",
          "2023-10-16T19:00:00.000000000",
          "2023-10-16T20:00:00.000000000",
          "2023-10-16T21:00:00.000000000",
          "2023-10-16T22:00:00.000000000",
          "2023-10-16T23:00:00.000000000",
          "2023-10-17T00:00:00.000000000",
          "2023-10-17T01:00:00.000000000",
          "2023-10-17T02:00:00.000000000",
          "2023-10-17T03:00:00.000000000",
          "2023-10-17T04:00:00.000000000",
          "2023-10-17T05:00:00.000000000",
          "2023-10-17T06:00:00.000000000",
          "2023-10-17T07:00:00.000000000",
          "2023-10-17T08:00:00.000000000",
          "2023-10-17T09:00:00.000000000",
          "2023-10-17T10:00:00.000000000",
          "2023-10-17T11:00:00.000000000",
          "2023-10-17T12:00:00.000000000",
          "2023-10-17T13:00:00.000000000",
          "2023-10-17T14:00:00.000000000",
          "2023-10-17T15:00:00.000000000",
          "2023-10-17T16:00:00.000000000",
          "2023-10-17T17:00:00.000000000",
          "2023-10-17T18:00:00.000000000",
          "2023-10-17T19:00:00.000000000",
          "2023-10-17T20:00:00.000000000",
          "2023-10-17T21:00:00.000000000",
          "2023-10-17T22:00:00.000000000",
          "2023-10-17T23:00:00.000000000",
          "2023-10-18T00:00:00.000000000",
          "2023-10-18T01:00:00.000000000",
          "2023-10-18T02:00:00.000000000",
          "2023-10-18T03:00:00.000000000",
          "2023-10-18T04:00:00.000000000",
          "2023-10-18T05:00:00.000000000",
          "2023-10-18T06:00:00.000000000",
          "2023-10-18T07:00:00.000000000",
          "2023-10-18T08:00:00.000000000",
          "2023-10-18T09:00:00.000000000",
          "2023-10-18T10:00:00.000000000",
          "2023-10-18T11:00:00.000000000",
          "2023-10-18T12:00:00.000000000",
          "2023-10-18T13:00:00.000000000",
          "2023-10-18T14:00:00.000000000",
          "2023-10-18T15:00:00.000000000",
          "2023-10-18T16:00:00.000000000",
          "2023-10-18T17:00:00.000000000",
          "2023-10-18T18:00:00.000000000",
          "2023-10-18T19:00:00.000000000",
          "2023-10-18T20:00:00.000000000",
          "2023-10-18T21:00:00.000000000",
          "2023-10-18T22:00:00.000000000",
          "2023-10-18T23:00:00.000000000",
          "2023-10-19T00:00:00.000000000",
          "2023-10-19T01:00:00.000000000",
          "2023-10-19T02:00:00.000000000",
          "2023-10-19T03:00:00.000000000",
          "2023-10-19T04:00:00.000000000",
          "2023-10-19T05:00:00.000000000",
          "2023-10-19T06:00:00.000000000",
          "2023-10-19T07:00:00.000000000",
          "2023-10-19T08:00:00.000000000",
          "2023-10-19T09:00:00.000000000",
          "2023-10-19T10:00:00.000000000",
          "2023-10-19T11:00:00.000000000",
          "2023-10-19T12:00:00.000000000",
          "2023-10-19T13:00:00.000000000",
          "2023-10-19T14:00:00.000000000",
          "2023-10-19T15:00:00.000000000",
          "2023-10-19T16:00:00.000000000",
          "2023-10-19T17:00:00.000000000",
          "2023-10-19T18:00:00.000000000",
          "2023-10-19T19:00:00.000000000",
          "2023-10-19T20:00:00.000000000",
          "2023-10-19T21:00:00.000000000",
          "2023-10-19T22:00:00.000000000",
          "2023-10-19T23:00:00.000000000",
          "2023-10-20T00:00:00.000000000",
          "2023-10-20T01:00:00.000000000",
          "2023-10-20T02:00:00.000000000",
          "2023-10-20T03:00:00.000000000",
          "2023-10-20T04:00:00.000000000",
          "2023-10-20T05:00:00.000000000",
          "2023-10-20T06:00:00.000000000",
          "2023-10-20T07:00:00.000000000",
          "2023-10-20T08:00:00.000000000",
          "2023-10-20T09:00:00.000000000",
          "2023-10-20T10:00:00.000000000",
          "2023-10-20T11:00:00.000000000",
          "2023-10-20T12:00:00.000000000",
          "2023-10-20T13:00:00.000000000",
          "2023-10-20T14:00:00.000000000",
          "2023-10-20T15:00:00.000000000",
          "2023-10-20T16:00:00.000000000",
          "2023-10-20T17:00:00.000000000",
          "2023-10-20T18:00:00.000000000",
          "2023-10-20T19:00:00.000000000",
          "2023-10-20T20:00:00.000000000",
          "2023-10-20T21:00:00.000000000",
          "2023-10-20T22:00:00.000000000",
          "2023-10-20T23:00:00.000000000",
          "2023-10-21T00:00:00.000000000",
          "2023-10-21T01:00:00.000000000",
          "2023-10-21T02:00:00.000000000",
          "2023-10-21T03:00:00.000000000",
          "2023-10-21T04:00:00.000000000",
          "2023-10-21T05:00:00.000000000",
          "2023-10-21T06:00:00.000000000",
          "2023-10-21T07:00:00.000000000",
          "2023-10-21T08:00:00.000000000",
          "2023-10-21T09:00:00.000000000",
          "2023-10-21T10:00:00.000000000",
          "2023-10-21T11:00:00.000000000",
          "2023-10-21T12:00:00.000000000",
          "2023-10-21T13:00:00.000000000",
          "2023-10-21T14:00:00.000000000",
          "2023-10-21T15:00:00.000000000",
          "2023-10-21T16:00:00.000000000",
          "2023-10-21T17:00:00.000000000",
          "2023-10-21T18:00:00.000000000",
          "2023-10-21T19:00:00.000000000",
          "2023-10-21T20:00:00.000000000",
          "2023-10-21T21:00:00.000000000",
          "2023-10-21T22:00:00.000000000",
          "2023-10-21T23:00:00.000000000",
          "2023-10-22T00:00:00.000000000",
          "2023-10-22T01:00:00.000000000",
          "2023-10-22T02:00:00.000000000",
          "2023-10-22T03:00:00.000000000",
          "2023-10-22T04:00:00.000000000",
          "2023-10-22T05:00:00.000000000",
          "2023-10-22T06:00:00.000000000",
          "2023-10-22T07:00:00.000000000",
          "2023-10-22T08:00:00.000000000",
          "2023-10-22T09:00:00.000000000",
          "2023-10-22T10:00:00.000000000",
          "2023-10-22T11:00:00.000000000",
          "2023-10-22T12:00:00.000000000",
          "2023-10-22T13:00:00.000000000",
          "2023-10-22T14:00:00.000000000",
          "2023-10-22T15:00:00.000000000",
          "2023-10-22T16:00:00.000000000",
          "2023-10-22T17:00:00.000000000",
          "2023-10-22T18:00:00.000000000",
          "2023-10-22T19:00:00.000000000",
          "2023-10-22T20:00:00.000000000",
          "2023-10-22T21:00:00.000000000",
          "2023-10-22T22:00:00.000000000",
          "2023-10-22T23:00:00.000000000",
          "2023-10-23T00:00:00.000000000",
          "2023-10-23T01:00:00.000000000",
          "2023-10-23T02:00:00.000000000",
          "2023-10-23T03:00:00.000000000",
          "2023-10-23T04:00:00.000000000",
          "2023-10-23T05:00:00.000000000",
          "2023-10-23T06:00:00.000000000",
          "2023-10-23T07:00:00.000000000",
          "2023-10-23T08:00:00.000000000",
          "2023-10-23T09:00:00.000000000",
          "2023-10-23T10:00:00.000000000",
          "2023-10-23T11:00:00.000000000",
          "2023-10-23T12:00:00.000000000",
          "2023-10-23T13:00:00.000000000",
          "2023-10-23T14:00:00.000000000",
          "2023-10-23T15:00:00.000000000",
          "2023-10-23T16:00:00.000000000",
          "2023-10-23T17:00:00.000000000",
          "2023-10-23T18:00:00.000000000",
          "2023-10-23T19:00:00.000000000",
          "2023-10-23T20:00:00.000000000",
          "2023-10-23T21:00:00.000000000",
          "2023-10-23T22:00:00.000000000",
          "2023-10-23T23:00:00.000000000",
          "2023-10-24T00:00:00.000000000",
          "2023-10-24T01:00:00.000000000",
          "2023-10-24T02:00:00.000000000",
          "2023-10-24T03:00:00.000000000",
          "2023-10-24T04:00:00.000000000",
          "2023-10-24T05:00:00.000000000",
          "2023-10-24T06:00:00.000000000",
          "2023-10-24T07:00:00.000000000",
          "2023-10-24T08:00:00.000000000",
          "2023-10-24T09:00:00.000000000",
          "2023-10-24T10:00:00.000000000",
          "2023-10-24T11:00:00.000000000",
          "2023-10-24T12:00:00.000000000",
          "2023-10-24T13:00:00.000000000",
          "2023-10-24T14:00:00.000000000",
          "2023-10-24T15:00:00.000000000",
          "2023-10-24T16:00:00.000000000",
          "2023-10-24T17:00:00.000000000",
          "2023-10-24T18:00:00.000000000",
          "2023-10-24T19:00:00.000000000",
          "2023-10-24T20:00:00.000000000",
          "2023-10-24T21:00:00.000000000",
          "2023-10-24T22:00:00.000000000",
          "2023-10-24T23:00:00.000000000",
          "2023-10-25T00:00:00.000000000",
          "2023-10-25T01:00:00.000000000",
          "2023-10-25T02:00:00.000000000",
          "2023-10-25T03:00:00.000000000",
          "2023-10-25T04:00:00.000000000",
          "2023-10-25T05:00:00.000000000",
          "2023-10-25T06:00:00.000000000",
          "2023-10-25T07:00:00.000000000",
          "2023-10-25T08:00:00.000000000",
          "2023-10-25T09:00:00.000000000",
          "2023-10-25T10:00:00.000000000",
          "2023-10-25T11:00:00.000000000",
          "2023-10-25T12:00:00.000000000",
          "2023-10-25T13:00:00.000000000",
          "2023-10-25T14:00:00.000000000",
          "2023-10-25T15:00:00.000000000",
          "2023-10-25T16:00:00.000000000",
          "2023-10-25T17:00:00.000000000",
          "2023-10-25T18:00:00.000000000",
          "2023-10-25T19:00:00.000000000",
          "2023-10-25T20:00:00.000000000",
          "2023-10-25T21:00:00.000000000",
          "2023-10-25T22:00:00.000000000",
          "2023-10-25T23:00:00.000000000",
          "2023-10-26T00:00:00.000000000",
          "2023-10-26T01:00:00.000000000",
          "2023-10-26T02:00:00.000000000",
          "2023-10-26T03:00:00.000000000",
          "2023-10-26T04:00:00.000000000",
          "2023-10-26T05:00:00.000000000",
          "2023-10-26T06:00:00.000000000",
          "2023-10-26T07:00:00.000000000",
          "2023-10-26T08:00:00.000000000",
          "2023-10-26T09:00:00.000000000",
          "2023-10-26T10:00:00.000000000",
          "2023-10-26T11:00:00.000000000",
          "2023-10-26T12:00:00.000000000",
          "2023-10-26T13:00:00.000000000",
          "2023-10-26T14:00:00.000000000",
          "2023-10-26T15:00:00.000000000",
          "2023-10-26T16:00:00.000000000",
          "2023-10-26T17:00:00.000000000",
          "2023-10-26T18:00:00.000000000",
          "2023-10-26T19:00:00.000000000",
          "2023-10-26T20:00:00.000000000",
          "2023-10-26T21:00:00.000000000",
          "2023-10-26T22:00:00.000000000",
          "2023-10-26T23:00:00.000000000",
          "2023-10-27T00:00:00.000000000",
          "2023-10-27T01:00:00.000000000",
          "2023-10-27T02:00:00.000000000",
          "2023-10-27T03:00:00.000000000",
          "2023-10-27T04:00:00.000000000",
          "2023-10-27T05:00:00.000000000",
          "2023-10-27T06:00:00.000000000",
          "2023-10-27T07:00:00.000000000",
          "2023-10-27T08:00:00.000000000",
          "2023-10-27T09:00:00.000000000",
          "2023-10-27T10:00:00.000000000",
          "2023-10-27T11:00:00.000000000",
          "2023-10-27T12:00:00.000000000",
          "2023-10-27T13:00:00.000000000",
          "2023-10-27T14:00:00.000000000",
          "2023-10-27T15:00:00.000000000",
          "2023-10-27T16:00:00.000000000",
          "2023-10-27T17:00:00.000000000",
          "2023-10-27T18:00:00.000000000",
          "2023-10-27T19:00:00.000000000",
          "2023-10-27T20:00:00.000000000",
          "2023-10-27T21:00:00.000000000",
          "2023-10-27T22:00:00.000000000",
          "2023-10-27T23:00:00.000000000",
          "2023-10-28T00:00:00.000000000",
          "2023-10-28T01:00:00.000000000",
          "2023-10-28T02:00:00.000000000",
          "2023-10-28T03:00:00.000000000",
          "2023-10-28T04:00:00.000000000",
          "2023-10-28T05:00:00.000000000",
          "2023-10-28T06:00:00.000000000",
          "2023-10-28T07:00:00.000000000",
          "2023-10-28T08:00:00.000000000",
          "2023-10-28T09:00:00.000000000",
          "2023-10-28T10:00:00.000000000",
          "2023-10-28T11:00:00.000000000",
          "2023-10-28T12:00:00.000000000",
          "2023-10-28T13:00:00.000000000",
          "2023-10-28T14:00:00.000000000",
          "2023-10-28T15:00:00.000000000",
          "2023-10-28T16:00:00.000000000",
          "2023-10-28T17:00:00.000000000",
          "2023-10-28T18:00:00.000000000",
          "2023-10-28T19:00:00.000000000",
          "2023-10-28T20:00:00.000000000",
          "2023-10-28T21:00:00.000000000",
          "2023-10-28T22:00:00.000000000",
          "2023-10-28T23:00:00.000000000",
          "2023-10-29T00:00:00.000000000",
          "2023-10-29T01:00:00.000000000",
          "2023-10-29T02:00:00.000000000",
          "2023-10-29T03:00:00.000000000",
          "2023-10-29T04:00:00.000000000",
          "2023-10-29T05:00:00.000000000",
          "2023-10-29T06:00:00.000000000",
          "2023-10-29T07:00:00.000000000",
          "2023-10-29T08:00:00.000000000",
          "2023-10-29T09:00:00.000000000",
          "2023-10-29T10:00:00.000000000",
          "2023-10-29T11:00:00.000000000",
          "2023-10-29T12:00:00.000000000",
          "2023-10-29T13:00:00.000000000",
          "2023-10-29T14:00:00.000000000",
          "2023-10-29T15:00:00.000000000",
          "2023-10-29T16:00:00.000000000",
          "2023-10-29T17:00:00.000000000",
          "2023-10-29T18:00:00.000000000",
          "2023-10-29T19:00:00.000000000",
          "2023-10-29T20:00:00.000000000",
          "2023-10-29T21:00:00.000000000",
          "2023-10-29T22:00:00.000000000",
          "2023-10-29T23:00:00.000000000",
          "2023-10-30T00:00:00.000000000",
          "2023-10-30T01:00:00.000000000",
          "2023-10-30T02:00:00.000000000",
          "2023-10-30T03:00:00.000000000",
          "2023-10-30T04:00:00.000000000",
          "2023-10-30T05:00:00.000000000",
          "2023-10-30T06:00:00.000000000",
          "2023-10-30T07:00:00.000000000",
          "2023-10-30T08:00:00.000000000",
          "2023-10-30T09:00:00.000000000",
          "2023-10-30T10:00:00.000000000",
          "2023-10-30T11:00:00.000000000",
          "2023-10-30T12:00:00.000000000",
          "2023-10-30T13:00:00.000000000",
          "2023-10-30T14:00:00.000000000",
          "2023-10-30T15:00:00.000000000",
          "2023-10-30T16:00:00.000000000",
          "2023-10-30T17:00:00.000000000",
          "2023-10-30T18:00:00.000000000",
          "2023-10-30T19:00:00.000000000",
          "2023-10-30T20:00:00.000000000",
          "2023-10-30T21:00:00.000000000",
          "2023-10-30T22:00:00.000000000",
          "2023-10-30T23:00:00.000000000",
          "2023-10-31T00:00:00.000000000",
          "2023-10-31T01:00:00.000000000",
          "2023-10-31T02:00:00.000000000",
          "2023-10-31T03:00:00.000000000",
          "2023-10-31T04:00:00.000000000",
          "2023-10-31T05:00:00.000000000",
          "2023-10-31T06:00:00.000000000",
          "2023-10-31T07:00:00.000000000",
          "2023-10-31T08:00:00.000000000",
          "2023-10-31T09:00:00.000000000",
          "2023-10-31T10:00:00.000000000",
          "2023-10-31T11:00:00.000000000",
          "2023-10-31T12:00:00.000000000",
          "2023-10-31T13:00:00.000000000",
          "2023-10-31T14:00:00.000000000",
          "2023-10-31T15:00:00.000000000",
          "2023-10-31T16:00:00.000000000",
          "2023-10-31T17:00:00.000000000",
          "2023-10-31T18:00:00.000000000",
          "2023-10-31T19:00:00.000000000",
          "2023-10-31T20:00:00.000000000",
          "2023-10-31T21:00:00.000000000",
          "2023-10-31T22:00:00.000000000",
          "2023-10-31T23:00:00.000000000",
          "2023-11-01T00:00:00.000000000",
          "2023-11-01T01:00:00.000000000",
          "2023-11-01T02:00:00.000000000",
          "2023-11-01T03:00:00.000000000",
          "2023-11-01T04:00:00.000000000",
          "2023-11-01T05:00:00.000000000",
          "2023-11-01T06:00:00.000000000",
          "2023-11-01T07:00:00.000000000",
          "2023-11-01T08:00:00.000000000",
          "2023-11-01T09:00:00.000000000",
          "2023-11-01T10:00:00.000000000",
          "2023-11-01T11:00:00.000000000",
          "2023-11-01T12:00:00.000000000",
          "2023-11-01T13:00:00.000000000",
          "2023-11-01T14:00:00.000000000",
          "2023-11-01T15:00:00.000000000",
          "2023-11-01T16:00:00.000000000",
          "2023-11-01T17:00:00.000000000",
          "2023-11-01T18:00:00.000000000",
          "2023-11-01T19:00:00.000000000",
          "2023-11-01T20:00:00.000000000",
          "2023-11-01T21:00:00.000000000",
          "2023-11-01T22:00:00.000000000",
          "2023-11-01T23:00:00.000000000",
          "2023-11-02T00:00:00.000000000",
          "2023-11-02T01:00:00.000000000",
          "2023-11-02T02:00:00.000000000",
          "2023-11-02T03:00:00.000000000",
          "2023-11-02T04:00:00.000000000",
          "2023-11-02T05:00:00.000000000",
          "2023-11-02T06:00:00.000000000",
          "2023-11-02T07:00:00.000000000",
          "2023-11-02T08:00:00.000000000",
          "2023-11-02T09:00:00.000000000",
          "2023-11-02T10:00:00.000000000",
          "2023-11-02T11:00:00.000000000",
          "2023-11-02T12:00:00.000000000",
          "2023-11-02T13:00:00.000000000",
          "2023-11-02T14:00:00.000000000",
          "2023-11-02T15:00:00.000000000",
          "2023-11-02T16:00:00.000000000",
          "2023-11-02T17:00:00.000000000",
          "2023-11-02T18:00:00.000000000",
          "2023-11-02T19:00:00.000000000",
          "2023-11-02T20:00:00.000000000",
          "2023-11-02T21:00:00.000000000",
          "2023-11-02T22:00:00.000000000",
          "2023-11-02T23:00:00.000000000",
          "2023-11-03T00:00:00.000000000",
          "2023-11-03T01:00:00.000000000",
          "2023-11-03T02:00:00.000000000",
          "2023-11-03T03:00:00.000000000",
          "2023-11-03T04:00:00.000000000",
          "2023-11-03T05:00:00.000000000",
          "2023-11-03T06:00:00.000000000",
          "2023-11-03T07:00:00.000000000",
          "2023-11-03T08:00:00.000000000",
          "2023-11-03T09:00:00.000000000",
          "2023-11-03T10:00:00.000000000",
          "2023-11-03T11:00:00.000000000",
          "2023-11-03T12:00:00.000000000",
          "2023-11-03T13:00:00.000000000",
          "2023-11-03T14:00:00.000000000",
          "2023-11-03T15:00:00.000000000",
          "2023-11-03T16:00:00.000000000",
          "2023-11-03T17:00:00.000000000",
          "2023-11-03T18:00:00.000000000",
          "2023-11-03T19:00:00.000000000",
          "2023-11-03T20:00:00.000000000",
          "2023-11-03T21:00:00.000000000",
          "2023-11-03T22:00:00.000000000",
          "2023-11-03T23:00:00.000000000",
          "2023-11-04T00:00:00.000000000"
         ],
         "xaxis": "x",
         "y": {
          "bdata": "AAAAAAAAAAAAAAABAAAAAAAAAAAAAAABAAAAAAAAAAABAAAAAAEAAAAAAgABAAAAAAAAAAAAAQEBAAEAAQAAAAECAQEBAAAAAAEAAAAAAQEBAAAAAAIAAQAAAQAAAAABAAAAAAABAAIBAwAAAAEAAAIBAAAAAAAAAAAAAAAAAAEAAQEBAAAAAQIAAAAAAAAAAQAAAAEAAAEAAQAAAAIAAAEAAQAAAAABAAAAAAAAAAABAAAAAAABAAAAAAAAAAAAAAAAAAAAAAEAAAEBAAABAQABAAAAAAAAAAAAAAABAQEBAAEAAgAAAAEAAQAAAAAAAAAAAAEAAAAAAgAAAQAAAAEAAQAAAAAAAAABAAAAAQAAAQABAAABAAEAAAABAAAAAAAAAAAAAgAAAAABAAEAAAABAAAAAAAAAQAAAAAAAQABAQAAAQABAAABAQAAAAAAAQAAAAAAAAAAAAAAAAAAAAABAAAAAAAAAAAAAAAAAAAAAAAAAAABAQAAAAAAAAAAAQAAAAAAAQAAAQEAAAABAAAAAAAAAAAAAQAAAAAAAAIAAQABAAAAAAAAAAAAAAABAAAAAAAAAQABAgEAAgADAgAAAAAAAAAAAQAAAQAAAAIAAAIBAAAAAQAAAQABAAACAAAAAAAAAQECAAACAAAAAAACAQAAAAAAAAEAAAAAAAAAAQABAAAAAQECAQAAAQABAAAAAAAAAQAAAQAAAAAAAAEAAAAAAAAAAAAAAAAAAQEBAAAAAQEAAAECAAABAAAAAAAAAAAAAQIBAQAAAAAAAAAAAAEAAQABAAEAAAABAQIAAAAAAQABAAEBAQABAAAAAAAAAAAAAgACAAEBAAABAAEAAAAAAQEAAAAAAAAAAQEBAQEAAAACAQIAAAEAAQAAAA==",
          "dtype": "i1"
         },
         "yaxis": "y"
        },
        {
         "line": {
          "color": "green"
         },
         "marker": {
          "size": 10
         },
         "mode": "markers",
         "name": "Actual Value",
         "type": "scatter",
         "x": [
          "2023-11-04T00:00:00.000000000"
         ],
         "y": [
          0
         ]
        },
        {
         "line": {
          "color": "red"
         },
         "marker": {
          "size": 15,
          "symbol": "x"
         },
         "mode": "markers",
         "name": "Prediction",
         "type": "scatter",
         "x": [
          "2023-11-04T00:00:00.000000000"
         ],
         "y": [
          0.25
         ]
        }
       ],
       "layout": {
        "legend": {
         "tracegroupgap": 0
        },
        "template": {
         "data": {
          "bar": [
           {
            "error_x": {
             "color": "#2a3f5f"
            },
            "error_y": {
             "color": "#2a3f5f"
            },
            "marker": {
             "line": {
              "color": "white",
              "width": 0.5
             },
             "pattern": {
              "fillmode": "overlay",
              "size": 10,
              "solidity": 0.2
             }
            },
            "type": "bar"
           }
          ],
          "barpolar": [
           {
            "marker": {
             "line": {
              "color": "white",
              "width": 0.5
             },
             "pattern": {
              "fillmode": "overlay",
              "size": 10,
              "solidity": 0.2
             }
            },
            "type": "barpolar"
           }
          ],
          "carpet": [
           {
            "aaxis": {
             "endlinecolor": "#2a3f5f",
             "gridcolor": "#C8D4E3",
             "linecolor": "#C8D4E3",
             "minorgridcolor": "#C8D4E3",
             "startlinecolor": "#2a3f5f"
            },
            "baxis": {
             "endlinecolor": "#2a3f5f",
             "gridcolor": "#C8D4E3",
             "linecolor": "#C8D4E3",
             "minorgridcolor": "#C8D4E3",
             "startlinecolor": "#2a3f5f"
            },
            "type": "carpet"
           }
          ],
          "choropleth": [
           {
            "colorbar": {
             "outlinewidth": 0,
             "ticks": ""
            },
            "type": "choropleth"
           }
          ],
          "contour": [
           {
            "colorbar": {
             "outlinewidth": 0,
             "ticks": ""
            },
            "colorscale": [
             [
              0,
              "#0d0887"
             ],
             [
              0.1111111111111111,
              "#46039f"
             ],
             [
              0.2222222222222222,
              "#7201a8"
             ],
             [
              0.3333333333333333,
              "#9c179e"
             ],
             [
              0.4444444444444444,
              "#bd3786"
             ],
             [
              0.5555555555555556,
              "#d8576b"
             ],
             [
              0.6666666666666666,
              "#ed7953"
             ],
             [
              0.7777777777777778,
              "#fb9f3a"
             ],
             [
              0.8888888888888888,
              "#fdca26"
             ],
             [
              1,
              "#f0f921"
             ]
            ],
            "type": "contour"
           }
          ],
          "contourcarpet": [
           {
            "colorbar": {
             "outlinewidth": 0,
             "ticks": ""
            },
            "type": "contourcarpet"
           }
          ],
          "heatmap": [
           {
            "colorbar": {
             "outlinewidth": 0,
             "ticks": ""
            },
            "colorscale": [
             [
              0,
              "#0d0887"
             ],
             [
              0.1111111111111111,
              "#46039f"
             ],
             [
              0.2222222222222222,
              "#7201a8"
             ],
             [
              0.3333333333333333,
              "#9c179e"
             ],
             [
              0.4444444444444444,
              "#bd3786"
             ],
             [
              0.5555555555555556,
              "#d8576b"
             ],
             [
              0.6666666666666666,
              "#ed7953"
             ],
             [
              0.7777777777777778,
              "#fb9f3a"
             ],
             [
              0.8888888888888888,
              "#fdca26"
             ],
             [
              1,
              "#f0f921"
             ]
            ],
            "type": "heatmap"
           }
          ],
          "histogram": [
           {
            "marker": {
             "pattern": {
              "fillmode": "overlay",
              "size": 10,
              "solidity": 0.2
             }
            },
            "type": "histogram"
           }
          ],
          "histogram2d": [
           {
            "colorbar": {
             "outlinewidth": 0,
             "ticks": ""
            },
            "colorscale": [
             [
              0,
              "#0d0887"
             ],
             [
              0.1111111111111111,
              "#46039f"
             ],
             [
              0.2222222222222222,
              "#7201a8"
             ],
             [
              0.3333333333333333,
              "#9c179e"
             ],
             [
              0.4444444444444444,
              "#bd3786"
             ],
             [
              0.5555555555555556,
              "#d8576b"
             ],
             [
              0.6666666666666666,
              "#ed7953"
             ],
             [
              0.7777777777777778,
              "#fb9f3a"
             ],
             [
              0.8888888888888888,
              "#fdca26"
             ],
             [
              1,
              "#f0f921"
             ]
            ],
            "type": "histogram2d"
           }
          ],
          "histogram2dcontour": [
           {
            "colorbar": {
             "outlinewidth": 0,
             "ticks": ""
            },
            "colorscale": [
             [
              0,
              "#0d0887"
             ],
             [
              0.1111111111111111,
              "#46039f"
             ],
             [
              0.2222222222222222,
              "#7201a8"
             ],
             [
              0.3333333333333333,
              "#9c179e"
             ],
             [
              0.4444444444444444,
              "#bd3786"
             ],
             [
              0.5555555555555556,
              "#d8576b"
             ],
             [
              0.6666666666666666,
              "#ed7953"
             ],
             [
              0.7777777777777778,
              "#fb9f3a"
             ],
             [
              0.8888888888888888,
              "#fdca26"
             ],
             [
              1,
              "#f0f921"
             ]
            ],
            "type": "histogram2dcontour"
           }
          ],
          "mesh3d": [
           {
            "colorbar": {
             "outlinewidth": 0,
             "ticks": ""
            },
            "type": "mesh3d"
           }
          ],
          "parcoords": [
           {
            "line": {
             "colorbar": {
              "outlinewidth": 0,
              "ticks": ""
             }
            },
            "type": "parcoords"
           }
          ],
          "pie": [
           {
            "automargin": true,
            "type": "pie"
           }
          ],
          "scatter": [
           {
            "fillpattern": {
             "fillmode": "overlay",
             "size": 10,
             "solidity": 0.2
            },
            "type": "scatter"
           }
          ],
          "scatter3d": [
           {
            "line": {
             "colorbar": {
              "outlinewidth": 0,
              "ticks": ""
             }
            },
            "marker": {
             "colorbar": {
              "outlinewidth": 0,
              "ticks": ""
             }
            },
            "type": "scatter3d"
           }
          ],
          "scattercarpet": [
           {
            "marker": {
             "colorbar": {
              "outlinewidth": 0,
              "ticks": ""
             }
            },
            "type": "scattercarpet"
           }
          ],
          "scattergeo": [
           {
            "marker": {
             "colorbar": {
              "outlinewidth": 0,
              "ticks": ""
             }
            },
            "type": "scattergeo"
           }
          ],
          "scattergl": [
           {
            "marker": {
             "colorbar": {
              "outlinewidth": 0,
              "ticks": ""
             }
            },
            "type": "scattergl"
           }
          ],
          "scattermap": [
           {
            "marker": {
             "colorbar": {
              "outlinewidth": 0,
              "ticks": ""
             }
            },
            "type": "scattermap"
           }
          ],
          "scattermapbox": [
           {
            "marker": {
             "colorbar": {
              "outlinewidth": 0,
              "ticks": ""
             }
            },
            "type": "scattermapbox"
           }
          ],
          "scatterpolar": [
           {
            "marker": {
             "colorbar": {
              "outlinewidth": 0,
              "ticks": ""
             }
            },
            "type": "scatterpolar"
           }
          ],
          "scatterpolargl": [
           {
            "marker": {
             "colorbar": {
              "outlinewidth": 0,
              "ticks": ""
             }
            },
            "type": "scatterpolargl"
           }
          ],
          "scatterternary": [
           {
            "marker": {
             "colorbar": {
              "outlinewidth": 0,
              "ticks": ""
             }
            },
            "type": "scatterternary"
           }
          ],
          "surface": [
           {
            "colorbar": {
             "outlinewidth": 0,
             "ticks": ""
            },
            "colorscale": [
             [
              0,
              "#0d0887"
             ],
             [
              0.1111111111111111,
              "#46039f"
             ],
             [
              0.2222222222222222,
              "#7201a8"
             ],
             [
              0.3333333333333333,
              "#9c179e"
             ],
             [
              0.4444444444444444,
              "#bd3786"
             ],
             [
              0.5555555555555556,
              "#d8576b"
             ],
             [
              0.6666666666666666,
              "#ed7953"
             ],
             [
              0.7777777777777778,
              "#fb9f3a"
             ],
             [
              0.8888888888888888,
              "#fdca26"
             ],
             [
              1,
              "#f0f921"
             ]
            ],
            "type": "surface"
           }
          ],
          "table": [
           {
            "cells": {
             "fill": {
              "color": "#EBF0F8"
             },
             "line": {
              "color": "white"
             }
            },
            "header": {
             "fill": {
              "color": "#C8D4E3"
             },
             "line": {
              "color": "white"
             }
            },
            "type": "table"
           }
          ]
         },
         "layout": {
          "annotationdefaults": {
           "arrowcolor": "#2a3f5f",
           "arrowhead": 0,
           "arrowwidth": 1
          },
          "autotypenumbers": "strict",
          "coloraxis": {
           "colorbar": {
            "outlinewidth": 0,
            "ticks": ""
           }
          },
          "colorscale": {
           "diverging": [
            [
             0,
             "#8e0152"
            ],
            [
             0.1,
             "#c51b7d"
            ],
            [
             0.2,
             "#de77ae"
            ],
            [
             0.3,
             "#f1b6da"
            ],
            [
             0.4,
             "#fde0ef"
            ],
            [
             0.5,
             "#f7f7f7"
            ],
            [
             0.6,
             "#e6f5d0"
            ],
            [
             0.7,
             "#b8e186"
            ],
            [
             0.8,
             "#7fbc41"
            ],
            [
             0.9,
             "#4d9221"
            ],
            [
             1,
             "#276419"
            ]
           ],
           "sequential": [
            [
             0,
             "#0d0887"
            ],
            [
             0.1111111111111111,
             "#46039f"
            ],
            [
             0.2222222222222222,
             "#7201a8"
            ],
            [
             0.3333333333333333,
             "#9c179e"
            ],
            [
             0.4444444444444444,
             "#bd3786"
            ],
            [
             0.5555555555555556,
             "#d8576b"
            ],
            [
             0.6666666666666666,
             "#ed7953"
            ],
            [
             0.7777777777777778,
             "#fb9f3a"
            ],
            [
             0.8888888888888888,
             "#fdca26"
            ],
            [
             1,
             "#f0f921"
            ]
           ],
           "sequentialminus": [
            [
             0,
             "#0d0887"
            ],
            [
             0.1111111111111111,
             "#46039f"
            ],
            [
             0.2222222222222222,
             "#7201a8"
            ],
            [
             0.3333333333333333,
             "#9c179e"
            ],
            [
             0.4444444444444444,
             "#bd3786"
            ],
            [
             0.5555555555555556,
             "#d8576b"
            ],
            [
             0.6666666666666666,
             "#ed7953"
            ],
            [
             0.7777777777777778,
             "#fb9f3a"
            ],
            [
             0.8888888888888888,
             "#fdca26"
            ],
            [
             1,
             "#f0f921"
            ]
           ]
          },
          "colorway": [
           "#636efa",
           "#EF553B",
           "#00cc96",
           "#ab63fa",
           "#FFA15A",
           "#19d3f3",
           "#FF6692",
           "#B6E880",
           "#FF97FF",
           "#FECB52"
          ],
          "font": {
           "color": "#2a3f5f"
          },
          "geo": {
           "bgcolor": "white",
           "lakecolor": "white",
           "landcolor": "white",
           "showlakes": true,
           "showland": true,
           "subunitcolor": "#C8D4E3"
          },
          "hoverlabel": {
           "align": "left"
          },
          "hovermode": "closest",
          "mapbox": {
           "style": "light"
          },
          "paper_bgcolor": "white",
          "plot_bgcolor": "white",
          "polar": {
           "angularaxis": {
            "gridcolor": "#EBF0F8",
            "linecolor": "#EBF0F8",
            "ticks": ""
           },
           "bgcolor": "white",
           "radialaxis": {
            "gridcolor": "#EBF0F8",
            "linecolor": "#EBF0F8",
            "ticks": ""
           }
          },
          "scene": {
           "xaxis": {
            "backgroundcolor": "white",
            "gridcolor": "#DFE8F3",
            "gridwidth": 2,
            "linecolor": "#EBF0F8",
            "showbackground": true,
            "ticks": "",
            "zerolinecolor": "#EBF0F8"
           },
           "yaxis": {
            "backgroundcolor": "white",
            "gridcolor": "#DFE8F3",
            "gridwidth": 2,
            "linecolor": "#EBF0F8",
            "showbackground": true,
            "ticks": "",
            "zerolinecolor": "#EBF0F8"
           },
           "zaxis": {
            "backgroundcolor": "white",
            "gridcolor": "#DFE8F3",
            "gridwidth": 2,
            "linecolor": "#EBF0F8",
            "showbackground": true,
            "ticks": "",
            "zerolinecolor": "#EBF0F8"
           }
          },
          "shapedefaults": {
           "line": {
            "color": "#2a3f5f"
           }
          },
          "ternary": {
           "aaxis": {
            "gridcolor": "#DFE8F3",
            "linecolor": "#A2B1C6",
            "ticks": ""
           },
           "baxis": {
            "gridcolor": "#DFE8F3",
            "linecolor": "#A2B1C6",
            "ticks": ""
           },
           "bgcolor": "white",
           "caxis": {
            "gridcolor": "#DFE8F3",
            "linecolor": "#A2B1C6",
            "ticks": ""
           }
          },
          "title": {
           "x": 0.05
          },
          "xaxis": {
           "automargin": true,
           "gridcolor": "#EBF0F8",
           "linecolor": "#EBF0F8",
           "ticks": "",
           "title": {
            "standoff": 15
           },
           "zerolinecolor": "#EBF0F8",
           "zerolinewidth": 2
          },
          "yaxis": {
           "automargin": true,
           "gridcolor": "#EBF0F8",
           "linecolor": "#EBF0F8",
           "ticks": "",
           "title": {
            "standoff": 15
           },
           "zerolinecolor": "#EBF0F8",
           "zerolinewidth": 2
          }
         }
        },
        "title": {
         "text": "Pickup Hour: 2023-11-04 00:00:00, Location ID: 56"
        },
        "xaxis": {
         "anchor": "y",
         "domain": [
          0,
          1
         ],
         "title": {
          "text": "Time"
         }
        },
        "yaxis": {
         "anchor": "x",
         "domain": [
          0,
          1
         ],
         "title": {
          "text": "Ride Counts"
         }
        }
       }
      }
     },
     "metadata": {},
     "output_type": "display_data"
    }
   ],
   "source": [
    "from src.plot_utils import plot_aggregated_time_series\n",
    "\n",
    "plot_aggregated_time_series(X_test, y_test, 5002, predictions)"
   ]
  },
  {
   "cell_type": "code",
   "execution_count": null,
   "id": "fa85aa9c-f242-41c1-85f8-89613e8ec9f9",
   "metadata": {},
   "outputs": [],
   "source": []
  }
 ],
 "metadata": {
  "kernelspec": {
   "display_name": "nyc_taxi_env",
   "language": "python",
   "name": "python3"
  },
  "language_info": {
   "codemirror_mode": {
    "name": "ipython",
    "version": 3
   },
   "file_extension": ".py",
   "mimetype": "text/x-python",
   "name": "python",
   "nbconvert_exporter": "python",
   "pygments_lexer": "ipython3",
   "version": "3.11.11"
  }
 },
 "nbformat": 4,
 "nbformat_minor": 5
}
